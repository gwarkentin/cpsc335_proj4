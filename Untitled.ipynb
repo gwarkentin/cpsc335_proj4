{
 "cells": [
  {
   "cell_type": "markdown",
   "id": "9e2de57c",
   "metadata": {},
   "source": [
    "# Project 4\n",
    "## Spring 2023 CPSC 335 - Algorithm Engineering\n",
    "\n",
    "Instructor: Prof. Sampson Akwafuo\n",
    "\n",
    "### Gabriel Warkentin\n",
    "\n",
    "Abstract\n",
    "In this project, you will develop exhaustive search and approximation algorithms for solving\n",
    "the Fibonacci problem. The time complexity of your algorithm will be either exponential, \n",
    "linear or polynomial. The second part of  the project involves implementing an exhaustive \n",
    "search algorithm for the largest sum subarray problem with polynomial efficiency class\n",
    "\n",
    "### Problem  1: The Fibonacci Problem and the Golden Ratio\n",
    "\n",
    "For  this  project,  you  are  expected  to  develop  two  algorithms to  solve  the  Fibonacci  problem.\n",
    "\n",
    "\n",
    "#### A.  The  Exhaustive  Pattern\n",
    "The  first  approach  will  involve  recursive  calculation  of  each  member  of  the  sequence.  \n",
    "a. Using  the  formular  above,  develop  a  recursive  algorithm to  calculate  the  *nth* terms  of  \n",
    "the  sequence.  The  first  term  of  the  sequence  is  0,  as  shown  above\n",
    "\n",
    "### Pseudocode Solution\n"
   ]
  },
  {
   "cell_type": "code",
   "execution_count": 34,
   "id": "05cac502",
   "metadata": {},
   "outputs": [],
   "source": [
    "def fib_recursive(n):\n",
    "    if n == 0:\n",
    "        return 0\n",
    "    if n == 1:\n",
    "        return 1\n",
    "    \n",
    "    return fib_recursive(n-1) + fib_recursive(n-2)"
   ]
  },
  {
   "cell_type": "markdown",
   "id": "86fda742",
   "metadata": {},
   "source": [
    "### Efficiency Analysis \n",
    "\n",
    "When recursive fib as drawn in a tree, it clearly nearly doubles in size for each increase in n.\n",
    "\n",
    "Therefore it is in O(2^n)\n",
    "\n",
    "\n",
    "Lets try a modified version to show this\n"
   ]
  },
  {
   "cell_type": "code",
   "execution_count": 29,
   "id": "461015e2",
   "metadata": {},
   "outputs": [
    {
     "name": "stdout",
     "output_type": "stream",
     "text": [
      "n: 0\t fib(n): 0\t steps: 1\t\n",
      "n: 1\t fib(n): 1\t steps: 1\t\n",
      "n: 2\t fib(n): 1\t steps: 3\t\n",
      "n: 3\t fib(n): 2\t steps: 5\t\n",
      "n: 4\t fib(n): 3\t steps: 9\t\n",
      "n: 5\t fib(n): 5\t steps: 15\t\n",
      "n: 6\t fib(n): 8\t steps: 25\t\n",
      "n: 7\t fib(n): 13\t steps: 41\t\n",
      "n: 8\t fib(n): 21\t steps: 67\t\n",
      "n: 9\t fib(n): 34\t steps: 109\t\n",
      "n: 10\t fib(n): 55\t steps: 177\t\n",
      "n: 11\t fib(n): 89\t steps: 287\t\n",
      "n: 12\t fib(n): 144\t steps: 465\t\n",
      "n: 13\t fib(n): 233\t steps: 753\t\n",
      "n: 14\t fib(n): 377\t steps: 1219\t\n",
      "n: 15\t fib(n): 610\t steps: 1973\t\n"
     ]
    }
   ],
   "source": [
    "def fib_recursive_steps(n):\n",
    "    if n == 0:\n",
    "        return [0, 1]\n",
    "    if n == 1:\n",
    "        return [1, 1]\n",
    "    f1 = fib_recursive_steps(n-1)\n",
    "    f2 = fib_recursive_steps(n-2)\n",
    "    return [f1[0] + f2[0], f1[1] + f2[1] + 1]\n",
    "\n",
    "for n in range(0,16):\n",
    "    f = fib_recursive_steps(n)\n",
    "    print(f'n: {n}\\t fib(n): {f[0]}\\t steps: {f[1]}\\t')"
   ]
  },
  {
   "cell_type": "markdown",
   "id": "d8affcd7",
   "metadata": {},
   "source": [
    "#### b. Print  out  the  15th term  of  the  sequence."
   ]
  },
  {
   "cell_type": "code",
   "execution_count": 33,
   "id": "21d1c87a",
   "metadata": {
    "scrolled": true
   },
   "outputs": [
    {
     "name": "stdout",
     "output_type": "stream",
     "text": [
      "n: 0\t fib_recursive(n): 0\n",
      "n: 1\t fib_recursive(n): 1\n",
      "n: 2\t fib_recursive(n): 1\n",
      "n: 3\t fib_recursive(n): 2\n",
      "n: 4\t fib_recursive(n): 3\n",
      "n: 5\t fib_recursive(n): 5\n",
      "n: 6\t fib_recursive(n): 8\n",
      "n: 7\t fib_recursive(n): 13\n",
      "n: 8\t fib_recursive(n): 21\n",
      "n: 9\t fib_recursive(n): 34\n",
      "n: 10\t fib_recursive(n): 55\n",
      "n: 11\t fib_recursive(n): 89\n",
      "n: 12\t fib_recursive(n): 144\n",
      "n: 13\t fib_recursive(n): 233\n",
      "n: 14\t fib_recursive(n): 377\n",
      "n: 15\t fib_recursive(n): 610\n"
     ]
    }
   ],
   "source": [
    "for n in range(0,16):\n",
    "    print(f'n: {n}\\t fib_recursive(n): {fib_recursive(n)}')"
   ]
  },
  {
   "cell_type": "markdown",
   "id": "7d995693",
   "metadata": {},
   "source": [
    "`n: 15\tfib_recursive(n): 610`"
   ]
  },
  {
   "cell_type": "markdown",
   "id": "44c5adeb",
   "metadata": {},
   "source": [
    "### B. The Golden Ratio Approach\n",
    "\n",
    "#### a. Design algorithms to obtain the Fibonacci numbers using equations (4) and (5) above\n",
    "When implementing equation (4), ask the user to enter $p$. You should specify that $p$ \n",
    "should  be a  positive integer and  non-floating  point. If a wrong  number is entered, \n",
    "inform the user and request for a new number, until a correct input is received.  Use \n",
    "equation (3) to obtain $f_p$ . Then ask  the user  to enter $n$. Use  the calculated $f_p$ to \n",
    "obtain $f_n$.\n",
    "When implementing equation (5),  equation (3) may be used to find $f_n$\n",
    "\n",
    "### Pseudocode Solution\n"
   ]
  },
  {
   "cell_type": "code",
   "execution_count": 37,
   "id": "c2c9daf2",
   "metadata": {},
   "outputs": [
    {
     "name": "stdout",
     "output_type": "stream",
     "text": [
      "\n",
      "    Welcome to the Golden Ratio Fibonacci approach!\n",
      "    \n",
      "    \n"
     ]
    },
    {
     "ename": "UnboundLocalError",
     "evalue": "local variable 'int' referenced before assignment",
     "output_type": "error",
     "traceback": [
      "\u001b[1;31m---------------------------------------------------------------------------\u001b[0m",
      "\u001b[1;31mUnboundLocalError\u001b[0m                         Traceback (most recent call last)",
      "\u001b[1;32m~\\AppData\\Local\\Temp\\ipykernel_4724\\1564948148.py\u001b[0m in \u001b[0;36m<module>\u001b[1;34m\u001b[0m\n\u001b[0;32m     33\u001b[0m \u001b[1;33m\u001b[0m\u001b[0m\n\u001b[0;32m     34\u001b[0m \u001b[1;33m\u001b[0m\u001b[0m\n\u001b[1;32m---> 35\u001b[1;33m \u001b[0mmain\u001b[0m\u001b[1;33m(\u001b[0m\u001b[1;33m)\u001b[0m\u001b[1;33m\u001b[0m\u001b[1;33m\u001b[0m\u001b[0m\n\u001b[0m",
      "\u001b[1;32m~\\AppData\\Local\\Temp\\ipykernel_4724\\1564948148.py\u001b[0m in \u001b[0;36mmain\u001b[1;34m()\u001b[0m\n\u001b[0;32m     17\u001b[0m     \u001b[1;32mwhile\u001b[0m \u001b[0mp\u001b[0m \u001b[1;32mis\u001b[0m \u001b[1;32mNone\u001b[0m\u001b[1;33m:\u001b[0m\u001b[1;33m\u001b[0m\u001b[1;33m\u001b[0m\u001b[0m\n\u001b[0;32m     18\u001b[0m         \u001b[1;32mtry\u001b[0m\u001b[1;33m:\u001b[0m\u001b[1;33m\u001b[0m\u001b[1;33m\u001b[0m\u001b[0m\n\u001b[1;32m---> 19\u001b[1;33m             \u001b[0mint\u001b[0m\u001b[1;33m:\u001b[0m \u001b[0mp\u001b[0m \u001b[1;33m=\u001b[0m \u001b[0mint\u001b[0m\u001b[1;33m(\u001b[0m\u001b[0minput\u001b[0m\u001b[1;33m(\u001b[0m\u001b[1;34m'Enter p (a +int):'\u001b[0m\u001b[1;33m)\u001b[0m\u001b[1;33m)\u001b[0m\u001b[1;33m\u001b[0m\u001b[1;33m\u001b[0m\u001b[0m\n\u001b[0m\u001b[0;32m     20\u001b[0m         \u001b[1;32mexcept\u001b[0m \u001b[0mValueError\u001b[0m\u001b[1;33m:\u001b[0m\u001b[1;33m\u001b[0m\u001b[1;33m\u001b[0m\u001b[0m\n\u001b[0;32m     21\u001b[0m             \u001b[0mprint\u001b[0m\u001b[1;33m(\u001b[0m\u001b[1;34m\"Invalid integer!\"\u001b[0m\u001b[1;33m)\u001b[0m\u001b[1;33m\u001b[0m\u001b[1;33m\u001b[0m\u001b[0m\n",
      "\u001b[1;31mUnboundLocalError\u001b[0m: local variable 'int' referenced before assignment"
     ]
    }
   ],
   "source": [
    "SQRT_5 = 2.2360679775\n",
    "\n",
    "def fib_gr_3(n):\n",
    "    return ((1+SQRT_5)**n - (1-SQRT_5)**n) / (2**n * SQRT_5)\n",
    "    \n",
    "def fib_gr_4(n, p, fib_p):\n",
    "    return fib_p * ((1+SQRT_5)/2)**(n-p)\n",
    "\n",
    "\n",
    "\n",
    "def main():\n",
    "    print('''\n",
    "    Welcome to the Golden Ratio Fibonacci approach!\n",
    "    \n",
    "    ''')\n",
    "    p = None\n",
    "    while p is None:\n",
    "        try:\n",
    "            int: p = int(input('Enter p (a +int):'))\n",
    "        except ValueError:\n",
    "            print(\"Invalid integer!\")\n",
    "    \n",
    "    while n is None:\n",
    "        try:\n",
    "            int: n = int(input('Enter n (a +int):'))\n",
    "        except ValueError:\n",
    "            print(\"Invalid integer!\")\n",
    "        \n",
    "    fib_p = fib_gr_3(p)\n",
    "    fib_n = fib_gr_4(n, p, fib_p)\n",
    "    \n",
    "    print(f'p: {p}\\tfib_p\" {fib_p}\\tn: {n}\\tfib_n:{fib_n}.')\n",
    "    \n",
    "\n",
    "main()"
   ]
  },
  {
   "cell_type": "markdown",
   "id": "82cbc094",
   "metadata": {},
   "source": [
    "#### b. Print the first 20 terms of the sequence, from equations (4) and (5) (ie 40 terms)\n",
    "#### c. Compare your outputs in (b) above, when equation (4) is used against results from \n",
    "equation (5)\n",
    "#### d. Check  and  confirm or disprove the maxim above using F_3/F_2 and F_30/F_29 (from \n",
    "equation 5 implementation)\n"
   ]
  }
 ],
 "metadata": {
  "kernelspec": {
   "display_name": "Python 3 (ipykernel)",
   "language": "python",
   "name": "python3"
  },
  "language_info": {
   "codemirror_mode": {
    "name": "ipython",
    "version": 3
   },
   "file_extension": ".py",
   "mimetype": "text/x-python",
   "name": "python",
   "nbconvert_exporter": "python",
   "pygments_lexer": "ipython3",
   "version": "3.9.13"
  }
 },
 "nbformat": 4,
 "nbformat_minor": 5
}
